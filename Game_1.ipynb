{
  "nbformat": 4,
  "nbformat_minor": 0,
  "metadata": {
    "colab": {
      "provenance": []
    },
    "kernelspec": {
      "name": "python3",
      "display_name": "Python 3"
    },
    "language_info": {
      "name": "python"
    }
  },
  "cells": [
    {
      "cell_type": "code",
      "execution_count": null,
      "metadata": {
        "id": "SmU_N-HOrRTb"
      },
      "outputs": [],
      "source": [
        "#imoorting packages\n",
        "\n",
        "import random\n",
        "import math"
      ]
    },
    {
      "cell_type": "code",
      "source": [
        "#declaring functions\n",
        "\n",
        "def calculate_scor(bid1, bid2, rms):\n",
        "    return abs((bid1 + bid2) / 2 - rms)\n",
        "\n",
        "\n",
        "def calculate_payment(max_bid, num_rounds):\n",
        "    return (sum(max_bid) / num_rounds) * 1.2"
      ],
      "metadata": {
        "id": "aTpLOJLbrXXY"
      },
      "execution_count": null,
      "outputs": []
    },
    {
      "cell_type": "code",
      "source": [
        "#Main game function\n",
        "\n",
        "def play_one_iteration():\n",
        "    num_players = 4\n",
        "    num_rounds = 10\n",
        "    bids = []\n",
        "    payment = 0\n",
        "\n",
        "    print(\"Starting Bidding Game\\n\")\n",
        "\n",
        "    for _ in range(num_rounds):\n",
        "        print(\"Round\", _ + 1)\n",
        "        round_bids = [(random.randint(5, 50), random.randint(40, 90)) for _ in range(num_players)]\n",
        "        print(\"Bids:\", round_bids)\n",
        "        bids.append(round_bids)\n",
        "\n",
        "    round_winners = []\n",
        "    for bid_round in bids:\n",
        "        rms = math.sqrt(sum(bid1 * 2 + bid2 * 2 for bid1, bid2 in bid_round) / len(bid_round))\n",
        "        scores = [calculate_score(bid1, bid2, rms) for bid1, bid2 in bid_round]\n",
        "\n",
        "        # Calculate a complexity factor based on bid1 and bid2 values\n",
        "        complexity_factor = [bid1 + 0.5 * bid2 for bid1, bid2 in bid_round]\n",
        "        weighted_scores = [score * factor for score, factor in zip(scores, complexity_factor)]\n",
        "\n",
        "        round_winner = weighted_scores.index(min(weighted_scores))\n",
        "        round_winners.append(round_winner)\n",
        "\n",
        "    player_wins = [0] * num_players\n",
        "\n",
        "    for winner in round_winners:\n",
        "        player_wins[winner] += 1\n",
        "\n",
        "    overall_winner = player_wins.index(max(player_wins)) + 1\n",
        "    payment = calculate_payment([max(bids[i][winner]) for i, winner in enumerate(round_winners)], num_rounds)\n",
        "\n",
        "    print(\"\\nGame Results\")\n",
        "    print(\"============\")\n",
        "    print(\"Round Winners:\")\n",
        "    for i, wins in enumerate(player_wins):\n",
        "        print(f\"Player {i + 1}: {wins} wins\")\n",
        "    print(\"\\nOverall Winner:\", overall_winner)\n",
        "    print(f\"Overall Winner's Final Payment: ${payment:.2f}\")"
      ],
      "metadata": {
        "id": "I9AzJQ_9rbsK"
      },
      "execution_count": null,
      "outputs": []
    },
    {
      "cell_type": "code",
      "source": [
        "#playing one iteration of game\n",
        "\n",
        "play_one_iteration()"
      ],
      "metadata": {
        "colab": {
          "base_uri": "https://localhost:8080/"
        },
        "id": "gNyxmXAFrscM",
        "outputId": "9afe0f81-b0ed-4be8-f4cf-a915d8f717f9"
      },
      "execution_count": null,
      "outputs": [
        {
          "output_type": "stream",
          "name": "stdout",
          "text": [
            "Starting Bidding Game\n",
            "\n",
            "Round 1\n",
            "Bids: [(26, 61), (37, 60), (15, 63), (12, 52)]\n",
            "Round 2\n",
            "Bids: [(33, 85), (7, 59), (44, 58), (44, 63)]\n",
            "Round 3\n",
            "Bids: [(9, 54), (18, 46), (5, 40), (9, 89)]\n",
            "Round 4\n",
            "Bids: [(29, 78), (15, 54), (26, 78), (33, 88)]\n",
            "Round 5\n",
            "Bids: [(50, 77), (19, 44), (23, 80), (16, 62)]\n",
            "Round 6\n",
            "Bids: [(42, 53), (22, 74), (7, 40), (25, 63)]\n",
            "Round 7\n",
            "Bids: [(50, 67), (34, 78), (43, 43), (9, 87)]\n",
            "Round 8\n",
            "Bids: [(46, 43), (13, 58), (32, 64), (8, 87)]\n",
            "Round 9\n",
            "Bids: [(8, 76), (5, 62), (41, 81), (27, 44)]\n",
            "Round 10\n",
            "Bids: [(39, 84), (37, 53), (35, 68), (28, 80)]\n",
            "\n",
            "Game Results\n",
            "============\n",
            "Round Winners:\n",
            "Player 1: 0 wins\n",
            "Player 2: 6 wins\n",
            "Player 3: 2 wins\n",
            "Player 4: 2 wins\n",
            "\n",
            "Overall Winner: 2\n",
            "Overall Winner's Final Payment: $65.88\n"
          ]
        }
      ]
    }
  ]
}