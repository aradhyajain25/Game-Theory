{
 "cells": [
  {
   "cell_type": "code",
   "execution_count": 1,
   "metadata": {
    "id": "SmU_N-HOrRTb"
   },
   "outputs": [],
   "source": [
    "#imoorting packages\n",
    "\n",
    "import random\n",
    "import math"
   ]
  },
  {
   "cell_type": "code",
   "execution_count": 2,
   "metadata": {
    "id": "aTpLOJLbrXXY"
   },
   "outputs": [],
   "source": [
    "#declaring functions\n",
    "\n",
    "def calculate_score(bid1, bid2, rms):\n",
    "    return abs((bid1 + bid2) / 2 - rms)\n",
    "\n",
    "\n",
    "def calculate_payment(max_bid, num_rounds):\n",
    "    return (sum(max_bid) / num_rounds) * 1.2"
   ]
  },
  {
   "cell_type": "code",
   "execution_count": 3,
   "metadata": {
    "id": "I9AzJQ_9rbsK"
   },
   "outputs": [],
   "source": [
    "#Main game function\n",
    "\n",
    "def play_one_iteration():\n",
    "    num_players = 4\n",
    "    num_rounds = 10\n",
    "    bids = []\n",
    "    payment = 0\n",
    "\n",
    "    print(\"Starting Bidding Game\\n\")\n",
    "\n",
    "    for _ in range(num_rounds):\n",
    "        print(\"Round\", _ + 1)\n",
    "        round_bids = [(random.randint(5, 50), random.randint(40, 90)) for _ in range(num_players)]\n",
    "        print(\"Bids:\", round_bids)\n",
    "        bids.append(round_bids)\n",
    "\n",
    "    round_winners = []\n",
    "    for bid_round in bids:\n",
    "        rms = math.sqrt(sum(bid1 * 2 + bid2 * 2 for bid1, bid2 in bid_round) / len(bid_round))\n",
    "        scores = [calculate_score(bid1, bid2, rms) for bid1, bid2 in bid_round]\n",
    "\n",
    "        # Calculate a complexity factor based on bid1 and bid2 values\n",
    "        complexity_factor = [bid1 + 0.5 * bid2 for bid1, bid2 in bid_round]\n",
    "        weighted_scores = [score * factor for score, factor in zip(scores, complexity_factor)]\n",
    "\n",
    "        round_winner = weighted_scores.index(min(weighted_scores))\n",
    "        round_winners.append(round_winner)\n",
    "\n",
    "    player_wins = [0] * num_players\n",
    "\n",
    "    for winner in round_winners:\n",
    "        player_wins[winner] += 1\n",
    "\n",
    "    overall_winner = player_wins.index(max(player_wins)) + 1\n",
    "    payment = calculate_payment([max(bids[i][winner]) for i, winner in enumerate(round_winners)], num_rounds)\n",
    "\n",
    "    print(\"\\nGame Results\")\n",
    "    print(\"============\")\n",
    "    print(\"Round Winners:\")\n",
    "    for i, wins in enumerate(player_wins):\n",
    "        print(f\"Player {i + 1}: {wins} wins\")\n",
    "    print(\"\\nOverall Winner:\", overall_winner)\n",
    "    print(f\"Overall Winner's Final Payment: ${payment:.2f}\")"
   ]
  },
  {
   "cell_type": "code",
   "execution_count": 4,
   "metadata": {
    "colab": {
     "base_uri": "https://localhost:8080/"
    },
    "id": "gNyxmXAFrscM",
    "outputId": "9afe0f81-b0ed-4be8-f4cf-a915d8f717f9"
   },
   "outputs": [
    {
     "name": "stdout",
     "output_type": "stream",
     "text": [
      "Starting Bidding Game\n",
      "\n",
      "Round 1\n",
      "Bids: [(10, 67), (46, 87), (42, 90), (8, 77)]\n",
      "Round 2\n",
      "Bids: [(27, 78), (5, 78), (6, 63), (39, 42)]\n",
      "Round 3\n",
      "Bids: [(5, 46), (47, 66), (42, 65), (6, 81)]\n",
      "Round 4\n",
      "Bids: [(46, 78), (39, 65), (16, 47), (40, 40)]\n",
      "Round 5\n",
      "Bids: [(49, 87), (14, 76), (44, 76), (26, 79)]\n",
      "Round 6\n",
      "Bids: [(46, 80), (34, 87), (9, 49), (42, 47)]\n",
      "Round 7\n",
      "Bids: [(16, 49), (19, 83), (49, 85), (31, 46)]\n",
      "Round 8\n",
      "Bids: [(12, 68), (16, 67), (7, 87), (29, 69)]\n",
      "Round 9\n",
      "Bids: [(23, 70), (27, 88), (36, 49), (27, 44)]\n",
      "Round 10\n",
      "Bids: [(41, 82), (44, 45), (21, 73), (20, 86)]\n",
      "\n",
      "Game Results\n",
      "============\n",
      "Round Winners:\n",
      "Player 1: 4 wins\n",
      "Player 2: 1 wins\n",
      "Player 3: 4 wins\n",
      "Player 4: 1 wins\n",
      "\n",
      "Overall Winner: 1\n",
      "Overall Winner's Final Payment: $69.84\n"
     ]
    }
   ],
   "source": [
    "#playing one iteration of game\n",
    "\n",
    "play_one_iteration()"
   ]
  }
 ],
 "metadata": {
  "colab": {
   "provenance": []
  },
  "kernelspec": {
   "display_name": "Python 3 (ipykernel)",
   "language": "python",
   "name": "python3"
  },
  "language_info": {
   "codemirror_mode": {
    "name": "ipython",
    "version": 3
   },
   "file_extension": ".py",
   "mimetype": "text/x-python",
   "name": "python",
   "nbconvert_exporter": "python",
   "pygments_lexer": "ipython3",
   "version": "3.11.6"
  }
 },
 "nbformat": 4,
 "nbformat_minor": 4
}
